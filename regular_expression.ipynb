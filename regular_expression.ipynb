{
  "nbformat": 4,
  "nbformat_minor": 0,
  "metadata": {
    "colab": {
      "name": "regular expression.ipynb",
      "provenance": [],
      "authorship_tag": "ABX9TyNVg5d6oPw1Rd9JF+ASkESG",
      "include_colab_link": true
    },
    "kernelspec": {
      "name": "python3",
      "display_name": "Python 3"
    },
    "language_info": {
      "name": "python"
    }
  },
  "cells": [
    {
      "cell_type": "markdown",
      "metadata": {
        "id": "view-in-github",
        "colab_type": "text"
      },
      "source": [
        "<a href=\"https://colab.research.google.com/github/Mehadi2012/Data-Science-in-Practice/blob/main/regular_expression.ipynb\" target=\"_parent\"><img src=\"https://colab.research.google.com/assets/colab-badge.svg\" alt=\"Open In Colab\"/></a>"
      ]
    },
    {
      "cell_type": "code",
      "metadata": {
        "colab": {
          "base_uri": "https://localhost:8080/"
        },
        "id": "XKUCGPrUqpDg",
        "outputId": "c8d793a4-1f69-4921-be96-d9ea6e88f7b6"
      },
      "source": [
        "import re\n",
        "\n",
        "text = 'This is a good day'\n",
        "if re.search('good',text):\n",
        "  print(\"Great\")\n",
        "else:\n",
        "  print(\"Alas\")"
      ],
      "execution_count": 1,
      "outputs": [
        {
          "output_type": "stream",
          "name": "stdout",
          "text": [
            "Great\n"
          ]
        }
      ]
    },
    {
      "cell_type": "code",
      "metadata": {
        "colab": {
          "base_uri": "https://localhost:8080/"
        },
        "id": "EH4M9CHOL9JF",
        "outputId": "862d0ec4-e6f0-41cd-9fdf-9ae999543ee0"
      },
      "source": [
        "text = ' Mehadi works diligently. Mehadi gets good grades. Mehadi loves travelling'\n",
        "re.split('Mehadi',text)"
      ],
      "execution_count": 2,
      "outputs": [
        {
          "output_type": "execute_result",
          "data": {
            "text/plain": [
              "[' ', ' works diligently. ', ' gets good grades. ', ' loves travelling']"
            ]
          },
          "metadata": {},
          "execution_count": 2
        }
      ]
    },
    {
      "cell_type": "code",
      "metadata": {
        "colab": {
          "base_uri": "https://localhost:8080/"
        },
        "id": "81Ep7dhhMlYw",
        "outputId": "bceeb938-d650-467b-e709-601bf5b34954"
      },
      "source": [
        "re.findall('Mehadi',text)"
      ],
      "execution_count": 3,
      "outputs": [
        {
          "output_type": "execute_result",
          "data": {
            "text/plain": [
              "['Mehadi', 'Mehadi', 'Mehadi']"
            ]
          },
          "metadata": {},
          "execution_count": 3
        }
      ]
    },
    {
      "cell_type": "code",
      "metadata": {
        "colab": {
          "base_uri": "https://localhost:8080/"
        },
        "id": "_oOVKOadM1Tm",
        "outputId": "cc66de5c-577d-4d96-dada-20d2c63dbe39"
      },
      "source": [
        "text = 'Mehadi works diligently. Mehadi gets good grades. Mehadi loves travelling'\n",
        "if re.search(\"^Mehadi\",text):\n",
        "  print('Hello, Mehadi')\n",
        "else:\n",
        "  print('good bye')"
      ],
      "execution_count": 4,
      "outputs": [
        {
          "output_type": "stream",
          "name": "stdout",
          "text": [
            "Hello, Mehadi\n"
          ]
        }
      ]
    },
    {
      "cell_type": "code",
      "metadata": {
        "id": "tIPw_APUNzVj",
        "colab": {
          "base_uri": "https://localhost:8080/"
        },
        "outputId": "d05e3248-41d1-4e39-9ab1-5d1ba415e827"
      },
      "source": [
        "grades = 'AABBBBBAAAAAAAAAACCCCCCC'\n",
        "print(re.findall('A',grades))\n",
        "print(re.findall('[AB]',grades))"
      ],
      "execution_count": 14,
      "outputs": [
        {
          "output_type": "stream",
          "name": "stdout",
          "text": [
            "['A', 'A', 'A', 'A', 'A', 'A', 'A', 'A', 'A', 'A', 'A', 'A']\n",
            "['A', 'A', 'B', 'B', 'B', 'B', 'B', 'A', 'A', 'A', 'A', 'A', 'A', 'A', 'A', 'A', 'A']\n"
          ]
        }
      ]
    },
    {
      "cell_type": "code",
      "metadata": {
        "colab": {
          "base_uri": "https://localhost:8080/"
        },
        "id": "gHuoRrJOyVAs",
        "outputId": "410b403e-cdfa-48b0-f145-dd647fccfc9d"
      },
      "source": [
        "re.findall('[A][B-C]',grades)"
      ],
      "execution_count": 15,
      "outputs": [
        {
          "output_type": "execute_result",
          "data": {
            "text/plain": [
              "['AB', 'AC']"
            ]
          },
          "metadata": {},
          "execution_count": 15
        }
      ]
    },
    {
      "cell_type": "code",
      "metadata": {
        "colab": {
          "base_uri": "https://localhost:8080/"
        },
        "id": "A8oio_Deygbv",
        "outputId": "9b57d167-3cd9-42b3-c70e-cf45c494b52c"
      },
      "source": [
        "re.findall('AB|AC',grades)"
      ],
      "execution_count": 16,
      "outputs": [
        {
          "output_type": "execute_result",
          "data": {
            "text/plain": [
              "['AB', 'AC']"
            ]
          },
          "metadata": {},
          "execution_count": 16
        }
      ]
    },
    {
      "cell_type": "code",
      "metadata": {
        "colab": {
          "base_uri": "https://localhost:8080/"
        },
        "id": "BGFSaEElymeL",
        "outputId": "6aaea5b7-a2f4-484d-de6c-ac5e7b3c6bd7"
      },
      "source": [
        "re.findall('A{2,10}',grades)"
      ],
      "execution_count": 17,
      "outputs": [
        {
          "output_type": "execute_result",
          "data": {
            "text/plain": [
              "['AA', 'AAAAAAAAAA']"
            ]
          },
          "metadata": {},
          "execution_count": 17
        }
      ]
    },
    {
      "cell_type": "code",
      "metadata": {
        "colab": {
          "base_uri": "https://localhost:8080/",
          "height": 122
        },
        "id": "-oCFSiDMzkGz",
        "outputId": "91118db6-3876-484b-9983-b7845084c1fc"
      },
      "source": [
        "with open ('/content/sample_data/ferpa.txt','r') as file:\n",
        "  wiki = file.read()\n",
        "wiki"
      ],
      "execution_count": 23,
      "outputs": [
        {
          "output_type": "execute_result",
          "data": {
            "application/vnd.google.colaboratory.intrinsic+json": {
              "type": "string"
            },
            "text/plain": [
              "'Overview[edit]\\nFERPA gives parents access to their child\\'s education records, an opportunity to seek to have the records amended, and some control over the disclosure of information from the records. With several exceptions, schools must have a student\\'s consent prior to the disclosure of education records after that student is 18 years old. The law applies only to educational agencies and institutions that receive funds under a program administered by the U.S. Department of Education.\\n\\nOther regulations under this act, effective starting January 3, 2012, allow for greater disclosures of personal and directory student identifying information and regulate student IDs and e-mail addresses.[2] For example, schools may provide external companies with a student\\'s personally identifiable information without the student\\'s consent.[2]\\n\\nExamples of situations affected by FERPA include school employees divulging information to anyone other than the student about the student\\'s grades or behavior, and school work posted on a bulletin board with a grade. Generally, schools must have written permission from the parent or eligible student in order to release any information from a student\\'s education record.\\n\\nThis privacy policy also governs how state agencies transmit testing data to federal agencies, such as the Education Data Exchange Network.\\n\\nThis U.S. federal law also gave students 18 years of age or older, or students of any age if enrolled in any post-secondary educational institution, the right of privacy regarding grades, enrollment, and even billing information unless the school has specific permission from the student to share that specific type of information.\\n\\nFERPA also permits a school to disclose personally identifiable information from education records of an \"eligible student\" (a student age 18 or older or enrolled in a postsecondary institution at any age) to his or her parents if the student is a \"dependent student\" as that term is defined in Section 152 of the Internal Revenue Code. Generally, if either parent has claimed the student as a dependent on the parent\\'s most recent income tax statement, the school may non-consensually disclose the student\\'s education records to both parents.[3]\\n\\nThe law allowed students who apply to an educational institution such as graduate school permission to view recommendations submitted by others as part of the application. However, on standard application forms, students are given the option to waive this right.\\n\\nFERPA specifically excludes employees of an educational institution if they are not students.\\n\\nThe act is also referred to as the Buckley Amendment, for one of its proponents, Senator James L. Buckley of New York.\\n\\nAccess to public records[edit]\\nThe citing of FERPA to conceal public records that are not \"educational\" in nature has been widely criticized, including by the act\\'s primary Senate sponsor.[4] For example, in the Owasso Independent School District v. Falvo case, an important part of the debate was determining the relationship between peer-grading and \"education records\" as defined in FERPA. In the Court of Appeals, it was ruled that students placing grades on the work of other students made such work into an \"education record.\" Thus, peer-grading was determined as a violation of FERPA privacy policies because students had access to other students\\' academic performance without full consent.[5] However, when the case went to the Supreme Court, it was officially ruled that peer-grading was not a violation of FERPA. This is because a grade written on a student\\'s work does not become an \"education record\" until the teacher writes the final grade into a grade book.[6]\\n\\nStudent medical records[edit]\\nLegal experts have debated the issue of whether student medical records (for example records of therapy sessions with a therapist at an on-campus counseling center) might be released to the school administration under certain triggering events, such as when a student sued his college or university.[7][8]\\n\\nUsually, student medical treatment records will remain under the protection of FERPA, not the Health Insurance Portability and Accountability Act (HIPAA). This is due to the \"FERPA Exception\" written within HIPAA.[9]'"
            ]
          },
          "metadata": {},
          "execution_count": 23
        }
      ]
    },
    {
      "cell_type": "code",
      "metadata": {
        "colab": {
          "base_uri": "https://localhost:8080/"
        },
        "id": "Lx19acPe1M87",
        "outputId": "76f5d119-ee28-405a-f4d2-fad0bdfb03ff"
      },
      "source": [
        "re.findall('[a-zA-Z]{1,100}\\[edit\\]',wiki)"
      ],
      "execution_count": 26,
      "outputs": [
        {
          "output_type": "execute_result",
          "data": {
            "text/plain": [
              "['Overview[edit]', 'records[edit]', 'records[edit]']"
            ]
          },
          "metadata": {},
          "execution_count": 26
        }
      ]
    },
    {
      "cell_type": "code",
      "metadata": {
        "colab": {
          "base_uri": "https://localhost:8080/"
        },
        "id": "wQrQuoa91lH5",
        "outputId": "8fa8d3b3-2862-48a0-a749-932a7b8fc435"
      },
      "source": [
        "re.findall('[\\w]{1,100}\\[edit\\]',wiki)"
      ],
      "execution_count": 28,
      "outputs": [
        {
          "output_type": "execute_result",
          "data": {
            "text/plain": [
              "['Overview[edit]', 'records[edit]', 'records[edit]']"
            ]
          },
          "metadata": {},
          "execution_count": 28
        }
      ]
    },
    {
      "cell_type": "code",
      "metadata": {
        "colab": {
          "base_uri": "https://localhost:8080/"
        },
        "id": "fS3wMAoc1gBL",
        "outputId": "79df40c2-377e-4e8e-ec9d-6e82a7ec960b"
      },
      "source": [
        "re.findall('[\\w]*\\[edit\\]',wiki)"
      ],
      "execution_count": 29,
      "outputs": [
        {
          "output_type": "execute_result",
          "data": {
            "text/plain": [
              "['Overview[edit]', 'records[edit]', 'records[edit]']"
            ]
          },
          "metadata": {},
          "execution_count": 29
        }
      ]
    },
    {
      "cell_type": "code",
      "metadata": {
        "colab": {
          "base_uri": "https://localhost:8080/"
        },
        "id": "SCizFZuX2CTE",
        "outputId": "80ed8a63-b0bb-412a-c590-60f7f8e22921"
      },
      "source": [
        "re.findall('[\\w ]*\\[edit\\]',wiki)"
      ],
      "execution_count": 30,
      "outputs": [
        {
          "output_type": "execute_result",
          "data": {
            "text/plain": [
              "['Overview[edit]',\n",
              " 'Access to public records[edit]',\n",
              " 'Student medical records[edit]']"
            ]
          },
          "metadata": {},
          "execution_count": 30
        }
      ]
    },
    {
      "cell_type": "code",
      "metadata": {
        "colab": {
          "base_uri": "https://localhost:8080/"
        },
        "id": "hAVVDWmP2RIJ",
        "outputId": "aed77839-d244-4644-94c0-482430adfbe0"
      },
      "source": [
        "for title in re.findall('[\\w ]*\\[edit\\]',wiki):\n",
        "  print(re.split('[\\[]',title)[0])\n"
      ],
      "execution_count": 36,
      "outputs": [
        {
          "output_type": "stream",
          "name": "stdout",
          "text": [
            "Overview\n",
            "Access to public records\n",
            "Student medical records\n"
          ]
        }
      ]
    },
    {
      "cell_type": "code",
      "metadata": {
        "colab": {
          "base_uri": "https://localhost:8080/"
        },
        "id": "bw3n6Y8g2-Sr",
        "outputId": "fdeed829-80e1-4bb9-b4dd-93d6de2534fb"
      },
      "source": [
        "re.findall('([\\w ]*)(\\[edit\\])',wiki)  #groups"
      ],
      "execution_count": 38,
      "outputs": [
        {
          "output_type": "execute_result",
          "data": {
            "text/plain": [
              "[('Overview', '[edit]'),\n",
              " ('Access to public records', '[edit]'),\n",
              " ('Student medical records', '[edit]')]"
            ]
          },
          "metadata": {},
          "execution_count": 38
        }
      ]
    },
    {
      "cell_type": "code",
      "metadata": {
        "colab": {
          "base_uri": "https://localhost:8080/"
        },
        "id": "YbbKwFR-5agS",
        "outputId": "54a86d8a-9175-4075-8690-99a52c52395b"
      },
      "source": [
        "for item in re.finditer('([\\w ]*)(\\[edit\\])',wiki):\n",
        "  print(item.groups())"
      ],
      "execution_count": 39,
      "outputs": [
        {
          "output_type": "stream",
          "name": "stdout",
          "text": [
            "('Overview', '[edit]')\n",
            "('Access to public records', '[edit]')\n",
            "('Student medical records', '[edit]')\n"
          ]
        }
      ]
    },
    {
      "cell_type": "code",
      "metadata": {
        "colab": {
          "base_uri": "https://localhost:8080/"
        },
        "id": "j6jYOirT5yta",
        "outputId": "cd2028a2-4158-4af5-dc73-2b609505efc9"
      },
      "source": [
        "for item in re.finditer('([\\w ]*)(\\[edit\\])',wiki):\n",
        "  print(item.group(1))"
      ],
      "execution_count": 43,
      "outputs": [
        {
          "output_type": "stream",
          "name": "stdout",
          "text": [
            "Overview\n",
            "Access to public records\n",
            "Student medical records\n"
          ]
        }
      ]
    },
    {
      "cell_type": "code",
      "metadata": {
        "colab": {
          "base_uri": "https://localhost:8080/"
        },
        "id": "I430KKAhCzn3",
        "outputId": "cc031eba-df5e-4ea0-9129-ca4e00d0a477"
      },
      "source": [
        "for item in re.finditer('(?P<title>[\\w ]+)(?=\\[edit\\])',wiki):     #look-ahead\n",
        "  print(item)"
      ],
      "execution_count": 61,
      "outputs": [
        {
          "output_type": "stream",
          "name": "stdout",
          "text": [
            "<re.Match object; span=(1486, 1496), match='References'>\n",
            "<re.Match object; span=(1671, 1685), match='External links'>\n"
          ]
        }
      ]
    },
    {
      "cell_type": "code",
      "metadata": {
        "colab": {
          "base_uri": "https://localhost:8080/",
          "height": 122
        },
        "id": "kYOicK0YDJcH",
        "outputId": "5e06ec46-801f-4317-fb3b-a07ed34d3627"
      },
      "source": [
        "with open('/content/sample_data/buddhist.txt') as file:\n",
        "  wiki = file.read()\n",
        "wiki"
      ],
      "execution_count": 62,
      "outputs": [
        {
          "output_type": "execute_result",
          "data": {
            "application/vnd.google.colaboratory.intrinsic+json": {
              "type": "string"
            },
            "text/plain": [
              "'Buddhist universities and colleges in the United States\\nFrom Wikipedia, the free encyclopedia\\nJump to navigationJump to search\\n\\nThis article needs additional citations for verification. Please help improve this article by adding citations to reliable sources. Unsourced material may be challenged and removed.\\nFind sources: \"Buddhist universities and colleges in the United States\" – news · newspapers · books · scholar · JSTOR (December 2009) (Learn how and when to remove this template message)\\nThere are several Buddhist universities in the United States. Some of these have existed for decades and are accredited. Others are relatively new and are either in the process of being accredited or else have no formal accreditation. The list includes:\\n\\nDhammakaya Open University – located in Azusa, California, part of the Thai Wat Phra Dhammakaya[1]\\nDharmakirti College – located in Tucson, Arizona Now called Awam Tibetan Buddhist Institute (http://awaminstitute.org/)\\nDharma Realm Buddhist University – located in Ukiah, California\\nEwam Buddhist Institute – located in Arlee, Montana\\nNaropa University is located in Boulder, Colorado (Accredited by the Higher Learning Commission)\\nInstitute of Buddhist Studies – located in Berkeley, California\\nMaitripa College – located in Portland, Oregon\\nSoka University of America – located in Aliso Viejo, California\\nUniversity of the West – located in Rosemead, California\\nWon Institute of Graduate Studies – located in Glenside, Pennsylvania\\nReferences[edit]\\n^ Banchanon, Phongphiphat (3 February 2015). รู้จัก \"เครือข่ายธรรมกาย\" [Getting to know the Dhammakaya network]. Forbes Thailand (in Thai). Retrieved 11 November 2016.\\nExternal links[edit]\\nList of Buddhist Universities and Colleges in the world'"
            ]
          },
          "metadata": {},
          "execution_count": 62
        }
      ]
    },
    {
      "cell_type": "code",
      "metadata": {
        "colab": {
          "base_uri": "https://localhost:8080/"
        },
        "id": "ipUTq4PYEiLJ",
        "outputId": "1243fada-6620-4540-bcd4-348b2e927293"
      },
      "source": [
        "pattern=\"\"\"\n",
        "(?P<title>.*)           #the university title\n",
        "(–\\ located\\ in\\ )      #an indicator of the location\n",
        "(?P<city>\\w*)           #city the university is in\n",
        "(,\\ )                   #separator for the state\n",
        "(?P<state>\\w*)          #the state the city is located in\"\"\"\n",
        "\n",
        "for item in re.finditer(pattern, wiki, re.VERBOSE):\n",
        "  print(item.groupdict())"
      ],
      "execution_count": 67,
      "outputs": [
        {
          "output_type": "stream",
          "name": "stdout",
          "text": [
            "{'title': 'Dhammakaya Open University ', 'city': 'Azusa', 'state': 'California'}\n",
            "{'title': 'Dharmakirti College ', 'city': 'Tucson', 'state': 'Arizona'}\n",
            "{'title': 'Dharma Realm Buddhist University ', 'city': 'Ukiah', 'state': 'California'}\n",
            "{'title': 'Ewam Buddhist Institute ', 'city': 'Arlee', 'state': 'Montana'}\n",
            "{'title': 'Institute of Buddhist Studies ', 'city': 'Berkeley', 'state': 'California'}\n",
            "{'title': 'Maitripa College ', 'city': 'Portland', 'state': 'Oregon'}\n",
            "{'title': 'University of the West ', 'city': 'Rosemead', 'state': 'California'}\n",
            "{'title': 'Won Institute of Graduate Studies ', 'city': 'Glenside', 'state': 'Pennsylvania'}\n"
          ]
        }
      ]
    }
  ]
}
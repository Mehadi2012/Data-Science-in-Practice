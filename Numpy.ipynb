{
  "nbformat": 4,
  "nbformat_minor": 0,
  "metadata": {
    "colab": {
      "name": "Numpy.ipynb",
      "provenance": [],
      "authorship_tag": "ABX9TyMOGg+RYGTjqphQJ5sQ28xi",
      "include_colab_link": true
    },
    "kernelspec": {
      "name": "python3",
      "display_name": "Python 3"
    },
    "language_info": {
      "name": "python"
    }
  },
  "cells": [
    {
      "cell_type": "markdown",
      "metadata": {
        "id": "view-in-github",
        "colab_type": "text"
      },
      "source": [
        "<a href=\"https://colab.research.google.com/github/Mehadi2012/Data-Science-in-Practice/blob/main/Numpy.ipynb\" target=\"_parent\"><img src=\"https://colab.research.google.com/assets/colab-badge.svg\" alt=\"Open In Colab\"/></a>"
      ]
    },
    {
      "cell_type": "code",
      "metadata": {
        "id": "-UJ1GrU0rCLj"
      },
      "source": [
        "import numpy as np \n",
        "import math\n"
      ],
      "execution_count": 2,
      "outputs": []
    },
    {
      "cell_type": "code",
      "metadata": {
        "colab": {
          "base_uri": "https://localhost:8080/"
        },
        "id": "iMJXYRlxrImw",
        "outputId": "d54e98f0-6b50-4ff6-9f8a-ff70dcf619fa"
      },
      "source": [
        "a = np.array([1,2,3])\n",
        "print(a)\n",
        "print(a.ndim) #no. of the dimesnions of the array;"
      ],
      "execution_count": 3,
      "outputs": [
        {
          "output_type": "stream",
          "name": "stdout",
          "text": [
            "[1 2 3]\n",
            "1\n"
          ]
        }
      ]
    },
    {
      "cell_type": "code",
      "metadata": {
        "colab": {
          "base_uri": "https://localhost:8080/"
        },
        "id": "2iysZOHErgam",
        "outputId": "7d3ad171-b7d8-4474-a4a0-d53d33ced45b"
      },
      "source": [
        "b = np.array([[1,2,3],[4,5,6]])\n",
        "b"
      ],
      "execution_count": 6,
      "outputs": [
        {
          "output_type": "execute_result",
          "data": {
            "text/plain": [
              "array([[1, 2, 3],\n",
              "       [4, 5, 6]])"
            ]
          },
          "metadata": {},
          "execution_count": 6
        }
      ]
    },
    {
      "cell_type": "code",
      "metadata": {
        "colab": {
          "base_uri": "https://localhost:8080/"
        },
        "id": "Pk4PwKbIrqia",
        "outputId": "e0b5007e-3abc-4d15-d442-65a47a2ecf98"
      },
      "source": [
        "# lenght of each dimensions by calling the shape attribute, which returns a tuple\n",
        "b.shape"
      ],
      "execution_count": 7,
      "outputs": [
        {
          "output_type": "execute_result",
          "data": {
            "text/plain": [
              "(2, 3)"
            ]
          },
          "metadata": {},
          "execution_count": 7
        }
      ]
    },
    {
      "cell_type": "code",
      "metadata": {
        "colab": {
          "base_uri": "https://localhost:8080/"
        },
        "id": "xyOZYoaXr9OZ",
        "outputId": "9f1985c8-c2df-4fe6-f11e-ec5cc9c6ced2"
      },
      "source": [
        "a.dtype"
      ],
      "execution_count": 8,
      "outputs": [
        {
          "output_type": "execute_result",
          "data": {
            "text/plain": [
              "dtype('int64')"
            ]
          },
          "metadata": {},
          "execution_count": 8
        }
      ]
    },
    {
      "cell_type": "code",
      "metadata": {
        "colab": {
          "base_uri": "https://localhost:8080/"
        },
        "id": "Iya8N_PjsAnO",
        "outputId": "91e2c63f-fe4e-4f8f-cfff-f3c20c59ee84"
      },
      "source": [
        "c = np.array([2.2,4,33.4])\n",
        "print(c)\n",
        "print(c.dtype.name)"
      ],
      "execution_count": 11,
      "outputs": [
        {
          "output_type": "stream",
          "name": "stdout",
          "text": [
            "[ 2.2  4.  33.4]\n",
            "float64\n"
          ]
        }
      ]
    },
    {
      "cell_type": "code",
      "metadata": {
        "colab": {
          "base_uri": "https://localhost:8080/"
        },
        "id": "F-zoUgBesaLS",
        "outputId": "9f8ea7b8-12a8-4722-dc0b-251c34f94151"
      },
      "source": [
        "d = np.zeros((2,3))\n",
        "print(d)"
      ],
      "execution_count": 13,
      "outputs": [
        {
          "output_type": "stream",
          "name": "stdout",
          "text": [
            "[[0. 0. 0.]\n",
            " [0. 0. 0.]]\n"
          ]
        }
      ]
    },
    {
      "cell_type": "code",
      "metadata": {
        "colab": {
          "base_uri": "https://localhost:8080/"
        },
        "id": "rwQMlGOas68c",
        "outputId": "b30507fa-430b-42fe-9f16-bcf4b9156910"
      },
      "source": [
        "e = np.ones((2,3))\n",
        "print(e)\n",
        "print(e.ndim)"
      ],
      "execution_count": 17,
      "outputs": [
        {
          "output_type": "stream",
          "name": "stdout",
          "text": [
            "[[1. 1. 1.]\n",
            " [1. 1. 1.]]\n",
            "2\n"
          ]
        }
      ]
    },
    {
      "cell_type": "code",
      "metadata": {
        "colab": {
          "base_uri": "https://localhost:8080/"
        },
        "id": "NsIdbOVstNle",
        "outputId": "6598c131-dab5-4c0b-a8f2-3f7fd45095ae"
      },
      "source": [
        "np.random.rand(2,3)"
      ],
      "execution_count": 21,
      "outputs": [
        {
          "output_type": "execute_result",
          "data": {
            "text/plain": [
              "array([[0.5976704 , 0.19697928, 0.38770457],\n",
              "       [0.35585408, 0.14360667, 0.6814502 ]])"
            ]
          },
          "metadata": {},
          "execution_count": 21
        }
      ]
    },
    {
      "cell_type": "code",
      "metadata": {
        "colab": {
          "base_uri": "https://localhost:8080/"
        },
        "id": "Rbb8uFAltW4W",
        "outputId": "b9361d7e-f301-4c2e-980a-3b87863eebed"
      },
      "source": [
        " f = np.arange(10,50,2)\n",
        " print(f)"
      ],
      "execution_count": 23,
      "outputs": [
        {
          "output_type": "stream",
          "name": "stdout",
          "text": [
            "[10 12 14 16 18 20 22 24 26 28 30 32 34 36 38 40 42 44 46 48]\n"
          ]
        }
      ]
    },
    {
      "cell_type": "code",
      "metadata": {
        "colab": {
          "base_uri": "https://localhost:8080/"
        },
        "id": "IDxLFVGLt1pp",
        "outputId": "5c1c479d-a6f4-4ac8-b04e-832b6f804da5"
      },
      "source": [
        "np.linspace(0,2,15)"
      ],
      "execution_count": 24,
      "outputs": [
        {
          "output_type": "execute_result",
          "data": {
            "text/plain": [
              "array([0.        , 0.14285714, 0.28571429, 0.42857143, 0.57142857,\n",
              "       0.71428571, 0.85714286, 1.        , 1.14285714, 1.28571429,\n",
              "       1.42857143, 1.57142857, 1.71428571, 1.85714286, 2.        ])"
            ]
          },
          "metadata": {},
          "execution_count": 24
        }
      ]
    },
    {
      "cell_type": "code",
      "metadata": {
        "colab": {
          "base_uri": "https://localhost:8080/"
        },
        "id": "eblfLbuluGcc",
        "outputId": "ab133676-b8ee-4a90-c232-b08ebdc20e1d"
      },
      "source": [
        "a = np.array([10,20,30])\n",
        "b = np.array([1,2,3])\n",
        "c = a-b\n",
        "print(c)\n",
        "d = a*b\n",
        "print(d)"
      ],
      "execution_count": 26,
      "outputs": [
        {
          "output_type": "stream",
          "name": "stdout",
          "text": [
            "[ 9 18 27]\n",
            "[10 40 90]\n"
          ]
        }
      ]
    },
    {
      "cell_type": "code",
      "metadata": {
        "colab": {
          "base_uri": "https://localhost:8080/"
        },
        "id": "n426lTxRxzmc",
        "outputId": "1202f97f-8cc3-4dd8-d442-994179ac4a3b"
      },
      "source": [
        "farenheit = np.array([0,-10,-5,-15,0])\n",
        "celcius = (farenheit-32)*(5/9)\n",
        "print(celcius)"
      ],
      "execution_count": 28,
      "outputs": [
        {
          "output_type": "stream",
          "name": "stdout",
          "text": [
            "[-17.77777778 -23.33333333 -20.55555556 -26.11111111 -17.77777778]\n"
          ]
        }
      ]
    },
    {
      "cell_type": "code",
      "metadata": {
        "colab": {
          "base_uri": "https://localhost:8080/"
        },
        "id": "N1MfB3kVzNfc",
        "outputId": "8142e4c2-6679-4c14-a489-b27b61cc0fc8"
      },
      "source": [
        "celcius > -20"
      ],
      "execution_count": 29,
      "outputs": [
        {
          "output_type": "execute_result",
          "data": {
            "text/plain": [
              "array([ True, False, False, False,  True])"
            ]
          },
          "metadata": {},
          "execution_count": 29
        }
      ]
    },
    {
      "cell_type": "code",
      "metadata": {
        "colab": {
          "base_uri": "https://localhost:8080/"
        },
        "id": "JybTpXn7zztw",
        "outputId": "4e0e06f2-e2e4-40bd-8b49-7d41d0d694ec"
      },
      "source": [
        "celcius%2 == 0"
      ],
      "execution_count": 31,
      "outputs": [
        {
          "output_type": "execute_result",
          "data": {
            "text/plain": [
              "array([False, False, False, False, False])"
            ]
          },
          "metadata": {},
          "execution_count": 31
        }
      ]
    },
    {
      "cell_type": "code",
      "metadata": {
        "colab": {
          "base_uri": "https://localhost:8080/"
        },
        "id": "IrLiJI4X0HBd",
        "outputId": "01508fd6-097d-4f7a-e5a6-3c066c42c8dc"
      },
      "source": [
        "A = np.array([[1,1],[0,1]])\n",
        "B = np.array([[2,0],[3,4]])\n",
        "print(A*B)\n",
        "print(A+B)"
      ],
      "execution_count": 33,
      "outputs": [
        {
          "output_type": "stream",
          "name": "stdout",
          "text": [
            "[[2 0]\n",
            " [0 4]]\n",
            "[[3 1]\n",
            " [3 5]]\n"
          ]
        }
      ]
    },
    {
      "cell_type": "code",
      "metadata": {
        "colab": {
          "base_uri": "https://localhost:8080/"
        },
        "id": "ILXcnRxtijY0",
        "outputId": "ebfc9bd0-b6e1-4e5f-b82f-89cbfe088eba"
      },
      "source": [
        "a1 = np.array([[1,2,3,],[4,5,6]])\n",
        "a2 = np.array([[1,2,3],[4,5,6]])\n",
        "print (a1*a2)\n",
        "print(a1.shape)"
      ],
      "execution_count": 17,
      "outputs": [
        {
          "output_type": "stream",
          "name": "stdout",
          "text": [
            "[[ 1  4  9]\n",
            " [16 25 36]]\n",
            "(2, 3)\n"
          ]
        }
      ]
    },
    {
      "cell_type": "code",
      "metadata": {
        "colab": {
          "base_uri": "https://localhost:8080/"
        },
        "id": "elSKU51JjQgd",
        "outputId": "27dfdd87-9484-4465-ea4c-ea1dd240929a"
      },
      "source": [
        "b1 = np.array([[1,2,3,],[4,5,6]])\n",
        "print(b1.dtype)\n",
        "b2 = np.array([[1.1,2.1,3.3],[4.4,5.5,6.6]])\n",
        "print(b2.dtype)\n",
        "b3 = b1+b2\n",
        "print(b3)\n",
        "print(b3.dtype)"
      ],
      "execution_count": 20,
      "outputs": [
        {
          "output_type": "stream",
          "name": "stdout",
          "text": [
            "int64\n",
            "float64\n",
            "[[ 2.1  4.1  6.3]\n",
            " [ 8.4 10.5 12.6]]\n",
            "float64\n"
          ]
        }
      ]
    },
    {
      "cell_type": "code",
      "metadata": {
        "colab": {
          "base_uri": "https://localhost:8080/"
        },
        "id": "gE5qkXrDkgyV",
        "outputId": "1d8f3c2d-4c36-46a3-a9ba-bd6eb12ae0e3"
      },
      "source": [
        "print(b3.sum())\n",
        "print(b3.max())\n",
        "print(b3.min())\n",
        "print(b3.mean())"
      ],
      "execution_count": 21,
      "outputs": [
        {
          "output_type": "stream",
          "name": "stdout",
          "text": [
            "44.0\n",
            "12.6\n",
            "2.1\n",
            "7.333333333333333\n"
          ]
        }
      ]
    },
    {
      "cell_type": "code",
      "metadata": {
        "colab": {
          "base_uri": "https://localhost:8080/"
        },
        "id": "31rYqwpNkrIr",
        "outputId": "6e463838-5d97-4323-b6e1-1751d521d1b2"
      },
      "source": [
        "arr = np.array([1,2,3,4])\n",
        "print(arr.sum())\n",
        "print(arr.max())\n",
        "print(arr.min())\n",
        "print(arr.mean())"
      ],
      "execution_count": 22,
      "outputs": [
        {
          "output_type": "stream",
          "name": "stdout",
          "text": [
            "10\n",
            "4\n",
            "1\n",
            "2.5\n"
          ]
        }
      ]
    },
    {
      "cell_type": "code",
      "metadata": {
        "colab": {
          "base_uri": "https://localhost:8080/"
        },
        "id": "TqGPIo3FkzrD",
        "outputId": "71cd7956-6ed5-4122-c509-a81e656fbbc0"
      },
      "source": [
        "x = np.arange(1,16,1).reshape(3,5)\n",
        "print(x)"
      ],
      "execution_count": 41,
      "outputs": [
        {
          "output_type": "stream",
          "name": "stdout",
          "text": [
            "[[ 1  2  3  4  5]\n",
            " [ 6  7  8  9 10]\n",
            " [11 12 13 14 15]]\n"
          ]
        }
      ]
    },
    {
      "cell_type": "code",
      "metadata": {
        "colab": {
          "base_uri": "https://localhost:8080/",
          "height": 1000
        },
        "id": "pQZ9NKAKmMIU",
        "outputId": "a1f654d3-8488-460c-cd0a-b52c2bed986a"
      },
      "source": [
        "from PIL import Image\n",
        "from IPython.display import display\n",
        "img = Image.open('/content/sample_data/book.png')\n",
        "display(img)\n",
        "iarr = np.array(img)\n",
        "print(iarr.dtype)  # uint8 means unsigned intergers number and 8 means 8 bits\n",
        "print(iarr.shape)\n",
        "iarr"
      ],
      "execution_count": 39,
      "outputs": [
        {
          "output_type": "display_data",
          "data": {
            "image/png": "[encoded data removed]",
            "text/plain": [
              "<PIL.PngImagePlugin.PngImageFile image mode=RGBA size=150x150 at 0x7FEA22C4E810>"
            ]
          },
          "metadata": {}
        },
        {
          "output_type": "stream",
          "name": "stdout",
          "text": [
            "uint8\n",
            "(150, 150, 4)\n"
          ]
        },
        {
          "output_type": "execute_result",
          "data": {
            "text/plain": [
              "array([[[0, 0, 0, 0],\n",
              "        [0, 0, 0, 0],\n",
              "        [0, 0, 0, 0],\n",
              "        ...,\n",
              "        [0, 0, 0, 0],\n",
              "        [0, 0, 0, 0],\n",
              "        [0, 0, 0, 0]],\n",
              "\n",
              "       [[0, 0, 0, 0],\n",
              "        [0, 0, 0, 0],\n",
              "        [0, 0, 0, 0],\n",
              "        ...,\n",
              "        [0, 0, 0, 0],\n",
              "        [0, 0, 0, 0],\n",
              "        [0, 0, 0, 0]],\n",
              "\n",
              "       [[0, 0, 0, 0],\n",
              "        [0, 0, 0, 0],\n",
              "        [0, 0, 0, 0],\n",
              "        ...,\n",
              "        [0, 0, 0, 0],\n",
              "        [0, 0, 0, 0],\n",
              "        [0, 0, 0, 0]],\n",
              "\n",
              "       ...,\n",
              "\n",
              "       [[0, 0, 0, 0],\n",
              "        [0, 0, 0, 0],\n",
              "        [0, 0, 0, 0],\n",
              "        ...,\n",
              "        [0, 0, 0, 0],\n",
              "        [0, 0, 0, 0],\n",
              "        [0, 0, 0, 0]],\n",
              "\n",
              "       [[0, 0, 0, 0],\n",
              "        [0, 0, 0, 0],\n",
              "        [0, 0, 0, 0],\n",
              "        ...,\n",
              "        [0, 0, 0, 0],\n",
              "        [0, 0, 0, 0],\n",
              "        [0, 0, 0, 0]],\n",
              "\n",
              "       [[0, 0, 0, 0],\n",
              "        [0, 0, 0, 0],\n",
              "        [0, 0, 0, 0],\n",
              "        ...,\n",
              "        [0, 0, 0, 0],\n",
              "        [0, 0, 0, 0],\n",
              "        [0, 0, 0, 0]]], dtype=uint8)"
            ]
          },
          "metadata": {},
          "execution_count": 39
        }
      ]
    },
    {
      "cell_type": "code",
      "metadata": {
        "colab": {
          "base_uri": "https://localhost:8080/"
        },
        "id": "efBancVboS-r",
        "outputId": "4823d34f-dab9-4d14-cd4d-4ad71d160b18"
      },
      "source": [
        "newarr = np.full(iarr.shape,255)\n",
        "print(newarr)"
      ],
      "execution_count": 43,
      "outputs": [
        {
          "output_type": "stream",
          "name": "stdout",
          "text": [
            "[[[255 255 255 255]\n",
            "  [255 255 255 255]\n",
            "  [255 255 255 255]\n",
            "  ...\n",
            "  [255 255 255 255]\n",
            "  [255 255 255 255]\n",
            "  [255 255 255 255]]\n",
            "\n",
            " [[255 255 255 255]\n",
            "  [255 255 255 255]\n",
            "  [255 255 255 255]\n",
            "  ...\n",
            "  [255 255 255 255]\n",
            "  [255 255 255 255]\n",
            "  [255 255 255 255]]\n",
            "\n",
            " [[255 255 255 255]\n",
            "  [255 255 255 255]\n",
            "  [255 255 255 255]\n",
            "  ...\n",
            "  [255 255 255 255]\n",
            "  [255 255 255 255]\n",
            "  [255 255 255 255]]\n",
            "\n",
            " ...\n",
            "\n",
            " [[255 255 255 255]\n",
            "  [255 255 255 255]\n",
            "  [255 255 255 255]\n",
            "  ...\n",
            "  [255 255 255 255]\n",
            "  [255 255 255 255]\n",
            "  [255 255 255 255]]\n",
            "\n",
            " [[255 255 255 255]\n",
            "  [255 255 255 255]\n",
            "  [255 255 255 255]\n",
            "  ...\n",
            "  [255 255 255 255]\n",
            "  [255 255 255 255]\n",
            "  [255 255 255 255]]\n",
            "\n",
            " [[255 255 255 255]\n",
            "  [255 255 255 255]\n",
            "  [255 255 255 255]\n",
            "  ...\n",
            "  [255 255 255 255]\n",
            "  [255 255 255 255]\n",
            "  [255 255 255 255]]]\n"
          ]
        }
      ]
    },
    {
      "cell_type": "code",
      "metadata": {
        "colab": {
          "base_uri": "https://localhost:8080/"
        },
        "id": "_5lzqupJqRkj",
        "outputId": "2b16a034-7a00-4404-d1ad-ef4650c9fa95"
      },
      "source": [
        "array = iarr - newarr\n",
        "array = array * -1\n",
        "array = array.astype(np.uint8) \n",
        "print (array)"
      ],
      "execution_count": 47,
      "outputs": [
        {
          "output_type": "stream",
          "name": "stdout",
          "text": [
            "[[[255 255 255 255]\n",
            "  [255 255 255 255]\n",
            "  [255 255 255 255]\n",
            "  ...\n",
            "  [255 255 255 255]\n",
            "  [255 255 255 255]\n",
            "  [255 255 255 255]]\n",
            "\n",
            " [[255 255 255 255]\n",
            "  [255 255 255 255]\n",
            "  [255 255 255 255]\n",
            "  ...\n",
            "  [255 255 255 255]\n",
            "  [255 255 255 255]\n",
            "  [255 255 255 255]]\n",
            "\n",
            " [[255 255 255 255]\n",
            "  [255 255 255 255]\n",
            "  [255 255 255 255]\n",
            "  ...\n",
            "  [255 255 255 255]\n",
            "  [255 255 255 255]\n",
            "  [255 255 255 255]]\n",
            "\n",
            " ...\n",
            "\n",
            " [[255 255 255 255]\n",
            "  [255 255 255 255]\n",
            "  [255 255 255 255]\n",
            "  ...\n",
            "  [255 255 255 255]\n",
            "  [255 255 255 255]\n",
            "  [255 255 255 255]]\n",
            "\n",
            " [[255 255 255 255]\n",
            "  [255 255 255 255]\n",
            "  [255 255 255 255]\n",
            "  ...\n",
            "  [255 255 255 255]\n",
            "  [255 255 255 255]\n",
            "  [255 255 255 255]]\n",
            "\n",
            " [[255 255 255 255]\n",
            "  [255 255 255 255]\n",
            "  [255 255 255 255]\n",
            "  ...\n",
            "  [255 255 255 255]\n",
            "  [255 255 255 255]\n",
            "  [255 255 255 255]]]\n"
          ]
        }
      ]
    },
    {
      "cell_type": "code",
      "metadata": {
        "colab": {
          "base_uri": "https://localhost:8080/",
          "height": 167
        },
        "id": "Oil14HimrNj8",
        "outputId": "9f3eb58a-9ea7-4728-8b33-7eded4d63dac"
      },
      "source": [
        "display(Image.fromarray(array))"
      ],
      "execution_count": 48,
      "outputs": [
        {
          "output_type": "display_data",
          "data": {
            "image/png": "[encoded data removed]",
            "text/plain": [
              "<PIL.Image.Image image mode=RGBA size=150x150 at 0x7FEA22AD7D50>"
            ]
          },
          "metadata": {}
        }
      ]
    },
    {
      "cell_type": "code",
      "metadata": {
        "colab": {
          "base_uri": "https://localhost:8080/"
        },
        "id": "JVkEXYBYrdVB",
        "outputId": "79672fae-a823-468f-ab32-3d6c88afd678"
      },
      "source": [
        "a = np.array([1,23,4,5,6,7,87])\n",
        "print(a[2])"
      ],
      "execution_count": 49,
      "outputs": [
        {
          "output_type": "stream",
          "name": "stdout",
          "text": [
            "4\n"
          ]
        }
      ]
    },
    {
      "cell_type": "code",
      "metadata": {
        "colab": {
          "base_uri": "https://localhost:8080/"
        },
        "id": "aPNZTVPPssoB",
        "outputId": "0b355cc5-09d4-4b6a-b333-d00c4232b5b8"
      },
      "source": [
        "a1 = np.array([[1,2],[3,4],[5,6]])\n",
        "print (a1)\n",
        "print(a1[0,1])\n",
        "print(np.array([a1[0,0],a1[1,1],a1[2,1]]))\n",
        "print(a1[[0,1,2],[0,1,1]])    # here row = 0,1,2 and column = 0,1,1"
      ],
      "execution_count": 57,
      "outputs": [
        {
          "output_type": "stream",
          "name": "stdout",
          "text": [
            "[[1 2]\n",
            " [3 4]\n",
            " [5 6]]\n",
            "2\n",
            "[1 4 6]\n",
            "[1 4 6]\n"
          ]
        }
      ]
    },
    {
      "cell_type": "code",
      "metadata": {
        "colab": {
          "base_uri": "https://localhost:8080/"
        },
        "id": "lrmVnPKwupQZ",
        "outputId": "c284f4b6-929e-40fc-a2ce-73639435250a"
      },
      "source": [
        "print(a1>5)\n",
        "print(a1[a1>5])"
      ],
      "execution_count": 59,
      "outputs": [
        {
          "output_type": "stream",
          "name": "stdout",
          "text": [
            "[[False False]\n",
            " [False False]\n",
            " [False  True]]\n",
            "[6]\n"
          ]
        }
      ]
    },
    {
      "cell_type": "code",
      "metadata": {
        "colab": {
          "base_uri": "https://localhost:8080/"
        },
        "id": "Ti4ybkJSvKzh",
        "outputId": "0a69d631-6d0f-499b-d9bf-443eebd2610d"
      },
      "source": [
        "print(a1[:2,0:2])"
      ],
      "execution_count": 65,
      "outputs": [
        {
          "output_type": "stream",
          "name": "stdout",
          "text": [
            "[[1 2]\n",
            " [3 4]]\n"
          ]
        }
      ]
    },
    {
      "cell_type": "code",
      "metadata": {
        "colab": {
          "base_uri": "https://localhost:8080/"
        },
        "id": "i8fssin02P2P",
        "outputId": "5e49cd98-5e6f-451c-cd8b-8862377edc5f"
      },
      "source": [
        "f = np.array([1,5,3,4,5])\n",
        "print(f[0:4])"
      ],
      "execution_count": 69,
      "outputs": [
        {
          "output_type": "stream",
          "name": "stdout",
          "text": [
            "[1 5 3 4]\n"
          ]
        }
      ]
    },
    {
      "cell_type": "code",
      "metadata": {
        "colab": {
          "base_uri": "https://localhost:8080/"
        },
        "id": "0rnaggaq7uvU",
        "outputId": "c161b2dd-a5f4-4962-85ae-3369da6c1a27"
      },
      "source": [
        "dataset = np.genfromtxt('/content/sample_data/california_housing_test.csv', delimiter =',', skip_header =1)\n",
        "print(dataset.shape)\n",
        "print(dataset.ndim)\n",
        "print(dataset)\n"
      ],
      "execution_count": 84,
      "outputs": [
        {
          "output_type": "stream",
          "name": "stdout",
          "text": [
            "(3000, 9)\n",
            "2\n",
            "[[-1.22050e+02  3.73700e+01  2.70000e+01 ...  6.06000e+02  6.60850e+00\n",
            "   3.44700e+05]\n",
            " [-1.18300e+02  3.42600e+01  4.30000e+01 ...  2.77000e+02  3.59900e+00\n",
            "   1.76500e+05]\n",
            " [-1.17810e+02  3.37800e+01  2.70000e+01 ...  4.95000e+02  5.79340e+00\n",
            "   2.70500e+05]\n",
            " ...\n",
            " [-1.19700e+02  3.63000e+01  1.00000e+01 ...  2.20000e+02  2.28950e+00\n",
            "   6.20000e+04]\n",
            " [-1.17120e+02  3.41000e+01  4.00000e+01 ...  1.40000e+01  3.27080e+00\n",
            "   1.62500e+05]\n",
            " [-1.19630e+02  3.44200e+01  4.20000e+01 ...  2.60000e+02  8.56080e+00\n",
            "   5.00001e+05]]\n"
          ]
        }
      ]
    },
    {
      "cell_type": "code",
      "metadata": {
        "colab": {
          "base_uri": "https://localhost:8080/"
        },
        "id": "POWieoBfDcMt",
        "outputId": "f4d41d01-39e2-443f-9973-ae5d98ff8f47"
      },
      "source": [
        "print(dataset[:,0])\n",
        "print(dataset[:,0:1])"
      ],
      "execution_count": 76,
      "outputs": [
        {
          "output_type": "stream",
          "name": "stdout",
          "text": [
            "[-122.05 -118.3  -117.81 ... -119.7  -117.12 -119.63]\n",
            "[[-122.05]\n",
            " [-118.3 ]\n",
            " [-117.81]\n",
            " ...\n",
            " [-119.7 ]\n",
            " [-117.12]\n",
            " [-119.63]]\n"
          ]
        }
      ]
    },
    {
      "cell_type": "code",
      "metadata": {
        "colab": {
          "base_uri": "https://localhost:8080/"
        },
        "id": "9N9ogn5bDoCx",
        "outputId": "ac3df3ef-ec86-4df5-c191-a801cae9b76e"
      },
      "source": [
        "dataset[:,0:3]"
      ],
      "execution_count": 77,
      "outputs": [
        {
          "output_type": "execute_result",
          "data": {
            "text/plain": [
              "array([[-122.05,   37.37,   27.  ],\n",
              "       [-118.3 ,   34.26,   43.  ],\n",
              "       [-117.81,   33.78,   27.  ],\n",
              "       ...,\n",
              "       [-119.7 ,   36.3 ,   10.  ],\n",
              "       [-117.12,   34.1 ,   40.  ],\n",
              "       [-119.63,   34.42,   42.  ]])"
            ]
          },
          "metadata": {},
          "execution_count": 77
        }
      ]
    },
    {
      "cell_type": "code",
      "metadata": {
        "colab": {
          "base_uri": "https://localhost:8080/"
        },
        "id": "7tIudSy9DwGZ",
        "outputId": "bbae5864-e9c2-44fd-cc39-a7ec70238e9f"
      },
      "source": [
        "dataset[:,[1,3,4]]"
      ],
      "execution_count": 78,
      "outputs": [
        {
          "output_type": "execute_result",
          "data": {
            "text/plain": [
              "array([[  37.37, 3885.  ,  661.  ],\n",
              "       [  34.26, 1510.  ,  310.  ],\n",
              "       [  33.78, 3589.  ,  507.  ],\n",
              "       ...,\n",
              "       [  36.3 ,  956.  ,  201.  ],\n",
              "       [  34.1 ,   96.  ,   14.  ],\n",
              "       [  34.42, 1765.  ,  263.  ]])"
            ]
          },
          "metadata": {},
          "execution_count": 78
        }
      ]
    },
    {
      "cell_type": "code",
      "metadata": {
        "colab": {
          "base_uri": "https://localhost:8080/"
        },
        "id": "JLIjfe4BD2DK",
        "outputId": "96a836db-9883-41f2-971e-6ccbf14a4e5f"
      },
      "source": [
        "print(dataset[:,-1].mean())\n",
        "print(dataset[:,-1].sum())\n",
        "print(dataset[:,-1].min())\n",
        "print(dataset[:,-1].max())"
      ],
      "execution_count": 82,
      "outputs": [
        {
          "output_type": "stream",
          "name": "stdout",
          "text": [
            "205846.275\n",
            "617538825.0\n",
            "22500.0\n",
            "500001.0\n"
          ]
        }
      ]
    },
    {
      "cell_type": "code",
      "metadata": {
        "id": "3PllzXCzEJGa"
      },
      "source": [
        ""
      ],
      "execution_count": null,
      "outputs": []
    }
  ]
}
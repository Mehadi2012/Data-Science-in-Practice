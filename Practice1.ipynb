{
  "nbformat": 4,
  "nbformat_minor": 0,
  "metadata": {
    "colab": {
      "name": "Practice1.ipynb",
      "provenance": [],
      "authorship_tag": "ABX9TyMFUKLN/IEh8PMYW6D9FoDo",
      "include_colab_link": true
    },
    "kernelspec": {
      "name": "python3",
      "display_name": "Python 3"
    },
    "language_info": {
      "name": "python"
    }
  },
  "cells": [
    {
      "cell_type": "markdown",
      "metadata": {
        "id": "view-in-github",
        "colab_type": "text"
      },
      "source": [
        "<a href=\"https://colab.research.google.com/github/Mehadi2012/Practice/blob/main/Practice1.ipynb\" target=\"_parent\"><img src=\"https://colab.research.google.com/assets/colab-badge.svg\" alt=\"Open In Colab\"/></a>"
      ]
    },
    {
      "cell_type": "code",
      "metadata": {
        "colab": {
          "base_uri": "https://localhost:8080/"
        },
        "id": "bBc9vt2Jsaih",
        "outputId": "03a905f5-f4c4-498a-c289-f33904d73e60"
      },
      "source": [
        "x = 5\n",
        "print(x)"
      ],
      "execution_count": 3,
      "outputs": [
        {
          "output_type": "stream",
          "name": "stdout",
          "text": [
            "5\n"
          ]
        }
      ]
    },
    {
      "cell_type": "code",
      "metadata": {
        "colab": {
          "base_uri": "https://localhost:8080/"
        },
        "id": "RK6iCalfszKY",
        "outputId": "50d88c40-9377-42fa-f1ea-5b7769a76a7b"
      },
      "source": [
        "print(x+4)"
      ],
      "execution_count": 4,
      "outputs": [
        {
          "output_type": "stream",
          "name": "stdout",
          "text": [
            "9\n"
          ]
        }
      ]
    },
    {
      "cell_type": "code",
      "metadata": {
        "colab": {
          "base_uri": "https://localhost:8080/"
        },
        "id": "yXSDp_0qs0vw",
        "outputId": "5d1bea05-c5ce-44bd-b821-77fc20f23735"
      },
      "source": [
        "for i in range(10):\n",
        "  print(\"my world\")"
      ],
      "execution_count": 8,
      "outputs": [
        {
          "output_type": "stream",
          "name": "stdout",
          "text": [
            "my world\n",
            "my world\n",
            "my world\n",
            "my world\n",
            "my world\n",
            "my world\n",
            "my world\n",
            "my world\n",
            "my world\n",
            "my world\n"
          ]
        }
      ]
    },
    {
      "cell_type": "code",
      "metadata": {
        "colab": {
          "base_uri": "https://localhost:8080/"
        },
        "id": "usl6jF5jthIi",
        "outputId": "3d7e2007-689f-4b98-812a-72117ff2d4e6"
      },
      "source": [
        " s = 2\n",
        " m = 2\n",
        " m+s"
      ],
      "execution_count": 9,
      "outputs": [
        {
          "output_type": "execute_result",
          "data": {
            "text/plain": [
              "4"
            ]
          },
          "metadata": {},
          "execution_count": 9
        }
      ]
    },
    {
      "cell_type": "code",
      "metadata": {
        "colab": {
          "base_uri": "https://localhost:8080/"
        },
        "id": "Hq88dD4F4oVn",
        "outputId": "36f9d28a-d524-4f83-aabb-721093ff5b41"
      },
      "source": [
        "def addi(a,b,c):\n",
        "  res = a+b+c\n",
        "  return res\n",
        "\n",
        "addi(3,4,3)"
      ],
      "execution_count": 13,
      "outputs": [
        {
          "output_type": "execute_result",
          "data": {
            "text/plain": [
              "10"
            ]
          },
          "metadata": {},
          "execution_count": 13
        }
      ]
    },
    {
      "cell_type": "code",
      "metadata": {
        "colab": {
          "base_uri": "https://localhost:8080/"
        },
        "id": "BpSrWjQF5MN-",
        "outputId": "51151197-1ae7-4188-a2d4-c3b15b72456f"
      },
      "source": [
        "def mul(x,y,z=None):\n",
        "  if(z==None):\n",
        "    return x*y\n",
        "  else:\n",
        "    return x*y*z\n",
        "\n",
        "print(mul(1,2,3))\n",
        "print(mul(1,2))"
      ],
      "execution_count": 16,
      "outputs": [
        {
          "output_type": "stream",
          "name": "stdout",
          "text": [
            "6\n",
            "2\n"
          ]
        }
      ]
    },
    {
      "cell_type": "code",
      "metadata": {
        "colab": {
          "base_uri": "https://localhost:8080/"
        },
        "id": "QfgveA5f9o_W",
        "outputId": "ac4211e5-4591-4973-cd8f-47fb736ed7b1"
      },
      "source": [
        " x= (1,2,3.0,\"hello\")\n",
        " type(x)"
      ],
      "execution_count": 17,
      "outputs": [
        {
          "output_type": "execute_result",
          "data": {
            "text/plain": [
              "tuple"
            ]
          },
          "metadata": {},
          "execution_count": 17
        }
      ]
    },
    {
      "cell_type": "code",
      "metadata": {
        "colab": {
          "base_uri": "https://localhost:8080/"
        },
        "id": "VunOTqR4_WDD",
        "outputId": "995d71f3-1d65-42d2-f00b-be865f1eb47b"
      },
      "source": [
        " x= [1,2,3.0,\"hello\"]\n",
        " type(x)"
      ],
      "execution_count": 18,
      "outputs": [
        {
          "output_type": "execute_result",
          "data": {
            "text/plain": [
              "list"
            ]
          },
          "metadata": {},
          "execution_count": 18
        }
      ]
    },
    {
      "cell_type": "code",
      "metadata": {
        "colab": {
          "base_uri": "https://localhost:8080/"
        },
        "id": "suJQ6uP1_brk",
        "outputId": "89f823ba-887b-4bc4-df4e-a10739f89d42"
      },
      "source": [
        "x.append(3.3)\n",
        "print(x)"
      ],
      "execution_count": 19,
      "outputs": [
        {
          "output_type": "stream",
          "name": "stdout",
          "text": [
            "[1, 2, 3.0, 'hello', 3.3]\n"
          ]
        }
      ]
    },
    {
      "cell_type": "code",
      "metadata": {
        "colab": {
          "base_uri": "https://localhost:8080/"
        },
        "id": "mnViNgDS_x7U",
        "outputId": "0215427c-da07-481e-8d4d-4163a0e34f3a"
      },
      "source": [
        "for i in x:\n",
        "  print(i)"
      ],
      "execution_count": 20,
      "outputs": [
        {
          "output_type": "stream",
          "name": "stdout",
          "text": [
            "1\n",
            "2\n",
            "3.0\n",
            "hello\n",
            "3.3\n"
          ]
        }
      ]
    },
    {
      "cell_type": "code",
      "metadata": {
        "colab": {
          "base_uri": "https://localhost:8080/"
        },
        "id": "W3uGa9-_BeL7",
        "outputId": "eaff87fe-a731-4a61-baec-5b278e3745e2"
      },
      "source": [
        "x*3"
      ],
      "execution_count": 21,
      "outputs": [
        {
          "output_type": "execute_result",
          "data": {
            "text/plain": [
              "[1, 2, 3.0, 'hello', 3.3, 1, 2, 3.0, 'hello', 3.3, 1, 2, 3.0, 'hello', 3.3]"
            ]
          },
          "metadata": {},
          "execution_count": 21
        }
      ]
    },
    {
      "cell_type": "code",
      "metadata": {
        "colab": {
          "base_uri": "https://localhost:8080/"
        },
        "id": "trZ-S4yBCCEU",
        "outputId": "b3981e9f-2bd7-4c24-a80a-bb8bd7db9311"
      },
      "source": [
        "print(x[1:4])\n",
        "print(len(x))\n",
        "print(x)"
      ],
      "execution_count": 35,
      "outputs": [
        {
          "output_type": "stream",
          "name": "stdout",
          "text": [
            "[2, 3.0, 'hello']\n",
            "5\n",
            "[1, 2, 3.0, 'hello', 3.3]\n"
          ]
        }
      ]
    },
    {
      "cell_type": "code",
      "metadata": {
        "colab": {
          "base_uri": "https://localhost:8080/"
        },
        "id": "Nd6AYow6DIGN",
        "outputId": "4b3f8e81-3f39-4b06-c545-6304e3aeb79b"
      },
      "source": [
        "st = \"my name is Mehadi Hasan\"\n",
        "print(st[0:4])"
      ],
      "execution_count": 39,
      "outputs": [
        {
          "output_type": "stream",
          "name": "stdout",
          "text": [
            "my n\n"
          ]
        }
      ]
    },
    {
      "cell_type": "code",
      "metadata": {
        "colab": {
          "base_uri": "https://localhost:8080/"
        },
        "id": "xgTax1FQEFPB",
        "outputId": "da2964ed-cc2d-40fe-fb8a-14aca09027df"
      },
      "source": [
        "myname = 'Mehadi Hasan'.split(\" \")[1]\n",
        "print(myname)"
      ],
      "execution_count": 42,
      "outputs": [
        {
          "output_type": "stream",
          "name": "stdout",
          "text": [
            "Hasan\n"
          ]
        }
      ]
    },
    {
      "cell_type": "code",
      "metadata": {
        "colab": {
          "base_uri": "https://localhost:8080/"
        },
        "id": "MP5RIMR9EhNS",
        "outputId": "c05de811-e096-4b55-80d3-7816267a64a2"
      },
      "source": [
        "dict = {\"name\":\"mehadi\",\"age\":23}\n",
        "dict[\"hobby\"]=\"Travelling\"\n",
        "\n",
        "for item in dict:\n",
        "  print(dict[item])\n",
        "print(dict)"
      ],
      "execution_count": 53,
      "outputs": [
        {
          "output_type": "stream",
          "name": "stdout",
          "text": [
            "mehadi\n",
            "23\n",
            "Travelling\n",
            "{'name': 'mehadi', 'age': 23, 'hobby': 'Travelling'}\n"
          ]
        }
      ]
    },
    {
      "cell_type": "code",
      "metadata": {
        "colab": {
          "base_uri": "https://localhost:8080/"
        },
        "id": "576qyxy1G1bj",
        "outputId": "e221100e-0bee-40f1-f181-47e98df0f607"
      },
      "source": [
        "for x in dict.values():\n",
        "  print(x)"
      ],
      "execution_count": 55,
      "outputs": [
        {
          "output_type": "stream",
          "name": "stdout",
          "text": [
            "mehadi\n",
            "23\n",
            "Travelling\n"
          ]
        }
      ]
    },
    {
      "cell_type": "code",
      "metadata": {
        "colab": {
          "base_uri": "https://localhost:8080/"
        },
        "id": "VN8v8z5oHBEh",
        "outputId": "c66ca01b-206a-4102-efb5-aba04614d481"
      },
      "source": [
        "for x,y in dict.items():\n",
        "  print(x)\n",
        "  print(y)"
      ],
      "execution_count": 56,
      "outputs": [
        {
          "output_type": "stream",
          "name": "stdout",
          "text": [
            "name\n",
            "mehadi\n",
            "age\n",
            "23\n",
            "hobby\n",
            "Travelling\n"
          ]
        }
      ]
    },
    {
      "cell_type": "code",
      "metadata": {
        "colab": {
          "base_uri": "https://localhost:8080/"
        },
        "id": "VVM6Gxn3HRyS",
        "outputId": "8823151d-3f21-4341-dcac-432e82dba8c0"
      },
      "source": [
        "packin = (\"Mehadi\",\"Hasan\",\"mdmehadihasan2012@gmail.com\")\n",
        "firstname, lastname,email = packin\n",
        "print(firstname)\n",
        "print(lastname)\n",
        "print(email)"
      ],
      "execution_count": 58,
      "outputs": [
        {
          "output_type": "stream",
          "name": "stdout",
          "text": [
            "Mehadi\n",
            "Hasan\n",
            "mdmehadihasan2012@gmail.com\n"
          ]
        }
      ]
    },
    {
      "cell_type": "code",
      "metadata": {
        "colab": {
          "base_uri": "https://localhost:8080/"
        },
        "id": "ew0j0vQMf3dP",
        "outputId": "bc5b86e8-1669-49be-d882-769e73d22c7a"
      },
      "source": [
        "anum = {'one':3}\n",
        "bnum = {'two':6}\n",
        "print(anum['one']*bnum['two'])"
      ],
      "execution_count": 66,
      "outputs": [
        {
          "output_type": "stream",
          "name": "stdout",
          "text": [
            "18\n"
          ]
        }
      ]
    },
    {
      "cell_type": "code",
      "metadata": {
        "colab": {
          "base_uri": "https://localhost:8080/"
        },
        "id": "5VBX9rtjeXge",
        "outputId": "cb5455d3-9807-4e2b-8b3f-7dd22df2f080"
      },
      "source": [
        "sales_record = {'price':5.00, \n",
        "                'numof_items': 5,\n",
        "                'cusName':'Mehadi'}\n",
        "sales_statement = '{} bought {} items at a price of {} each for a total of {}'\n",
        "print(sales_statement.format(sales_record['cusName'], sales_record['numof_items'],sales_record['price'],sales_record['numof_items']*sales_record['price']))"
      ],
      "execution_count": 62,
      "outputs": [
        {
          "output_type": "stream",
          "name": "stdout",
          "text": [
            "Mehadi bought 5 items at a price of 5.0 each for a total of 25.0\n"
          ]
        }
      ]
    }
  ]
}
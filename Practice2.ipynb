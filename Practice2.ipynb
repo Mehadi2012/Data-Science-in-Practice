{
  "nbformat": 4,
  "nbformat_minor": 0,
  "metadata": {
    "colab": {
      "name": "Practice2.ipynb",
      "provenance": [],
      "authorship_tag": "ABX9TyOwefICkbo6PdckqHFxC2Lv",
      "include_colab_link": true
    },
    "kernelspec": {
      "name": "python3",
      "display_name": "Python 3"
    },
    "language_info": {
      "name": "python"
    }
  },
  "cells": [
    {
      "cell_type": "markdown",
      "metadata": {
        "id": "view-in-github",
        "colab_type": "text"
      },
      "source": [
        "<a href=\"https://colab.research.google.com/github/Mehadi2012/Practice/blob/main/Practice2.ipynb\" target=\"_parent\"><img src=\"https://colab.research.google.com/assets/colab-badge.svg\" alt=\"Open In Colab\"/></a>"
      ]
    },
    {
      "cell_type": "code",
      "metadata": {
        "colab": {
          "base_uri": "https://localhost:8080/"
        },
        "id": "buLM-badhUwZ",
        "outputId": "c5ddc170-2b36-469b-9970-589675e85427"
      },
      "source": [
        "import csv\n",
        "with open ('/content/sample_data/california_housing_test.csv') as csvfile:\n",
        "  myfile = list(csv.DictReader(csvfile))\n",
        "myfile[:3]"
      ],
      "execution_count": 1,
      "outputs": [
        {
          "output_type": "execute_result",
          "data": {
            "text/plain": [
              "[OrderedDict([('longitude', '-122.050000'),\n",
              "              ('latitude', '37.370000'),\n",
              "              ('housing_median_age', '27.000000'),\n",
              "              ('total_rooms', '3885.000000'),\n",
              "              ('total_bedrooms', '661.000000'),\n",
              "              ('population', '1537.000000'),\n",
              "              ('households', '606.000000'),\n",
              "              ('median_income', '6.608500'),\n",
              "              ('median_house_value', '344700.000000')]),\n",
              " OrderedDict([('longitude', '-118.300000'),\n",
              "              ('latitude', '34.260000'),\n",
              "              ('housing_median_age', '43.000000'),\n",
              "              ('total_rooms', '1510.000000'),\n",
              "              ('total_bedrooms', '310.000000'),\n",
              "              ('population', '809.000000'),\n",
              "              ('households', '277.000000'),\n",
              "              ('median_income', '3.599000'),\n",
              "              ('median_house_value', '176500.000000')]),\n",
              " OrderedDict([('longitude', '-117.810000'),\n",
              "              ('latitude', '33.780000'),\n",
              "              ('housing_median_age', '27.000000'),\n",
              "              ('total_rooms', '3589.000000'),\n",
              "              ('total_bedrooms', '507.000000'),\n",
              "              ('population', '1484.000000'),\n",
              "              ('households', '495.000000'),\n",
              "              ('median_income', '5.793400'),\n",
              "              ('median_house_value', '270500.000000')])]"
            ]
          },
          "metadata": {},
          "execution_count": 1
        }
      ]
    },
    {
      "cell_type": "code",
      "metadata": {
        "colab": {
          "base_uri": "https://localhost:8080/"
        },
        "id": "vLkt-IVwjuc0",
        "outputId": "200be180-a8a3-4c4c-9131-7bf6dae2c9b0"
      },
      "source": [
        "len(myfile)"
      ],
      "execution_count": 8,
      "outputs": [
        {
          "output_type": "execute_result",
          "data": {
            "text/plain": [
              "3000"
            ]
          },
          "metadata": {},
          "execution_count": 8
        }
      ]
    },
    {
      "cell_type": "code",
      "metadata": {
        "colab": {
          "base_uri": "https://localhost:8080/"
        },
        "id": "zQUcFp8lj2QL",
        "outputId": "89335b7c-f5e4-40da-c434-920d27176f7e"
      },
      "source": [
        "myfile[0].keys()"
      ],
      "execution_count": 12,
      "outputs": [
        {
          "output_type": "execute_result",
          "data": {
            "text/plain": [
              "odict_keys(['longitude', 'latitude', 'housing_median_age', 'total_rooms', 'total_bedrooms', 'population', 'households', 'median_income', 'median_house_value'])"
            ]
          },
          "metadata": {},
          "execution_count": 12
        }
      ]
    },
    {
      "cell_type": "code",
      "metadata": {
        "colab": {
          "base_uri": "https://localhost:8080/"
        },
        "id": "9vbVMLlKkYgr",
        "outputId": "f56bf2ef-b088-4c49-9d80-fa56e835f0a4"
      },
      "source": [
        "sum(float(i['total_rooms']) for i in myfile) / len(myfile)"
      ],
      "execution_count": 13,
      "outputs": [
        {
          "output_type": "execute_result",
          "data": {
            "text/plain": [
              "2599.578666666667"
            ]
          },
          "metadata": {},
          "execution_count": 13
        }
      ]
    },
    {
      "cell_type": "code",
      "metadata": {
        "colab": {
          "base_uri": "https://localhost:8080/",
          "height": 143
        },
        "id": "FHP0vonuiC7F",
        "outputId": "dd944cbe-a9ca-4b83-84cb-b8ea3ce6a23c"
      },
      "source": [
        "import pandas as pd\n",
        "import csv\n",
        "newfile = pd.read_csv('/content/sample_data/california_housing_test.csv')\n",
        "newfile[:3]"
      ],
      "execution_count": 7,
      "outputs": [
        {
          "output_type": "execute_result",
          "data": {
            "text/html": [
              "<div>\n",
              "<style scoped>\n",
              "    .dataframe tbody tr th:only-of-type {\n",
              "        vertical-align: middle;\n",
              "    }\n",
              "\n",
              "    .dataframe tbody tr th {\n",
              "        vertical-align: top;\n",
              "    }\n",
              "\n",
              "    .dataframe thead th {\n",
              "        text-align: right;\n",
              "    }\n",
              "</style>\n",
              "<table border=\"1\" class=\"dataframe\">\n",
              "  <thead>\n",
              "    <tr style=\"text-align: right;\">\n",
              "      <th></th>\n",
              "      <th>longitude</th>\n",
              "      <th>latitude</th>\n",
              "      <th>housing_median_age</th>\n",
              "      <th>total_rooms</th>\n",
              "      <th>total_bedrooms</th>\n",
              "      <th>population</th>\n",
              "      <th>households</th>\n",
              "      <th>median_income</th>\n",
              "      <th>median_house_value</th>\n",
              "    </tr>\n",
              "  </thead>\n",
              "  <tbody>\n",
              "    <tr>\n",
              "      <th>0</th>\n",
              "      <td>-122.05</td>\n",
              "      <td>37.37</td>\n",
              "      <td>27.0</td>\n",
              "      <td>3885.0</td>\n",
              "      <td>661.0</td>\n",
              "      <td>1537.0</td>\n",
              "      <td>606.0</td>\n",
              "      <td>6.6085</td>\n",
              "      <td>344700.0</td>\n",
              "    </tr>\n",
              "    <tr>\n",
              "      <th>1</th>\n",
              "      <td>-118.30</td>\n",
              "      <td>34.26</td>\n",
              "      <td>43.0</td>\n",
              "      <td>1510.0</td>\n",
              "      <td>310.0</td>\n",
              "      <td>809.0</td>\n",
              "      <td>277.0</td>\n",
              "      <td>3.5990</td>\n",
              "      <td>176500.0</td>\n",
              "    </tr>\n",
              "    <tr>\n",
              "      <th>2</th>\n",
              "      <td>-117.81</td>\n",
              "      <td>33.78</td>\n",
              "      <td>27.0</td>\n",
              "      <td>3589.0</td>\n",
              "      <td>507.0</td>\n",
              "      <td>1484.0</td>\n",
              "      <td>495.0</td>\n",
              "      <td>5.7934</td>\n",
              "      <td>270500.0</td>\n",
              "    </tr>\n",
              "  </tbody>\n",
              "</table>\n",
              "</div>"
            ],
            "text/plain": [
              "   longitude  latitude  ...  median_income  median_house_value\n",
              "0    -122.05     37.37  ...         6.6085            344700.0\n",
              "1    -118.30     34.26  ...         3.5990            176500.0\n",
              "2    -117.81     33.78  ...         5.7934            270500.0\n",
              "\n",
              "[3 rows x 9 columns]"
            ]
          },
          "metadata": {},
          "execution_count": 7
        }
      ]
    },
    {
      "cell_type": "code",
      "metadata": {
        "colab": {
          "base_uri": "https://localhost:8080/"
        },
        "id": "o3JKNWyJluD0",
        "outputId": "5aa51bfd-a70d-44e3-ca11-48739831c25a"
      },
      "source": [
        "import datetime as dt\n",
        "import time as tm\n",
        "tm.time()"
      ],
      "execution_count": 14,
      "outputs": [
        {
          "output_type": "execute_result",
          "data": {
            "text/plain": [
              "1638439272.335317"
            ]
          },
          "metadata": {},
          "execution_count": 14
        }
      ]
    },
    {
      "cell_type": "code",
      "metadata": {
        "colab": {
          "base_uri": "https://localhost:8080/"
        },
        "id": "UYRxzjhUl0sj",
        "outputId": "cadb5a9e-e45e-4e5f-9c7e-ed1b71d85e56"
      },
      "source": [
        "dtnow = dt.datetime.fromtimestamp(tm.time())\n",
        "dtnow"
      ],
      "execution_count": 15,
      "outputs": [
        {
          "output_type": "execute_result",
          "data": {
            "text/plain": [
              "datetime.datetime(2021, 12, 2, 10, 1, 53, 667399)"
            ]
          },
          "metadata": {},
          "execution_count": 15
        }
      ]
    },
    {
      "cell_type": "code",
      "metadata": {
        "colab": {
          "base_uri": "https://localhost:8080/"
        },
        "id": "i9vqAPckmCaj",
        "outputId": "260f8c1f-d6d8-401d-83bd-e912a731343f"
      },
      "source": [
        "dtnow.year, dtnow.month, dtnow.day, dtnow.hour, dtnow.minute, dtnow.second"
      ],
      "execution_count": 17,
      "outputs": [
        {
          "output_type": "execute_result",
          "data": {
            "text/plain": [
              "(2021, 12, 2, 10, 1, 53)"
            ]
          },
          "metadata": {},
          "execution_count": 17
        }
      ]
    },
    {
      "cell_type": "code",
      "metadata": {
        "colab": {
          "base_uri": "https://localhost:8080/"
        },
        "id": "JyBNuSCem1E9",
        "outputId": "2996581d-20d5-4c17-dda4-381d775096f2"
      },
      "source": [
        "people = ['Dr. Christopher Brooks', 'Dr, Kevyn Collins Thomposn', 'Dr. VG Vinod Vydiswaran', 'Dr. Daniel Romero']\n",
        "def split_name_and_title(person):\n",
        "  title = person.split()[0]\n",
        "  lastname = person.split()[-1]\n",
        "  return'{}{}'.format(title,lastname)\n",
        "\n",
        "res =list(map(split_name_and_title,people))\n",
        "print(res)\n",
        "print(type(res))"
      ],
      "execution_count": 35,
      "outputs": [
        {
          "output_type": "stream",
          "name": "stdout",
          "text": [
            "['Dr.Brooks', 'Dr,Thomposn', 'Dr.Vydiswaran', 'Dr.Romero']\n",
            "<class 'list'>\n"
          ]
        }
      ]
    },
    {
      "cell_type": "code",
      "metadata": {
        "id": "B5VUsmYBrii6"
      },
      "source": [
        ""
      ],
      "execution_count": null,
      "outputs": []
    }
  ]
}